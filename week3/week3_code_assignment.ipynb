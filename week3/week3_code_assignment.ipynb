{
  "cells": [
    {
      "cell_type": "markdown",
      "source": [
        "# Scoring"
      ],
      "metadata": {
        "id": "hF5AYPeJRixk"
      }
    },
    {
      "cell_type": "markdown",
      "source": [
        "- The maximum number of points for this assignment is 10, the minimum number of points is 0.\n",
        "- You could earn 2 additional points (12 in total) if you do the additional \n",
        "exercise.\n",
        "- You have two weeks to complete the assignment. Once the assignment is submitted you are not allowed to change it.\n",
        "- One week delay is penalized with 1 point.\n",
        "  - Example. The assignment is issued on the 1st January. The deadline without penalization is until 23:59 January 14th (anywhere on Earth). Student A submits his assignment on 22:51 January 13th and is not penalized; student B submits his assignment on 01:13 January 15th and is penalized with 1 point; student C submits his assignment on 3:56 January 23th and is penalized with 2 points and so on.\n"
      ],
      "metadata": {
        "id": "nTEqYvSdPvAF"
      }
    },
    {
      "cell_type": "markdown",
      "source": [
        "\n",
        "\n",
        "# Setting up the environment\n",
        "\n"
      ],
      "metadata": {
        "id": "oB9i1IlyhU0r"
      }
    },
    {
      "cell_type": "code",
      "execution_count": null,
      "metadata": {
        "id": "sUIcN6uO5p-x"
      },
      "outputs": [],
      "source": [
        "# %%%%%%%%%%%%%%%%%%%%%%%%%%%%%%%%%%%%%%%%%%%%%%%%%%%%%%%%%%%%%%%%%%%%%%%%%%%%%\n",
        "# Download predefined datasets\n",
        "# %%%%%%%%%%%%%%%%%%%%%%%%%%%%%%%%%%%%%%%%%%%%%%%%%%%%%%%%%%%%%%%%%%%%%%%%%%%%%\n",
        "\n",
        "!wget https://github.com/iburenko/hse_course/raw/main/week3/data/corona_train_segm_dataset.npz\n",
        "!wget https://github.com/iburenko/hse_course/raw/main/week3/data/corona_val_segm_dataset.npz\n",
        "!wget https://github.com/iburenko/hse_course/raw/main/week3/data/radiopedia_train_segm_dataset.npz\n",
        "!wget https://github.com/iburenko/hse_course/raw/main/week3/data/radiopedia_val_segm_dataset.npz"
      ]
    },
    {
      "cell_type": "code",
      "source": [
        "# %%%%%%%%%%%%%%%%%%%%%%%%%%%%%%%%%%%%%%%%%%%%%%%%%%%%%%%%%%%%%%%%%%%%%%%%%%%%%\n",
        "# Install required packages into the environment\n",
        "# %%%%%%%%%%%%%%%%%%%%%%%%%%%%%%%%%%%%%%%%%%%%%%%%%%%%%%%%%%%%%%%%%%%%%%%%%%%%%\n",
        "\n",
        "!pip install segmentation_models_pytorch"
      ],
      "metadata": {
        "id": "Uk6BK-XYB9UZ"
      },
      "execution_count": null,
      "outputs": []
    },
    {
      "cell_type": "code",
      "execution_count": null,
      "metadata": {
        "id": "2tfurSvD477K"
      },
      "outputs": [],
      "source": [
        "# %%%%%%%%%%%%%%%%%%%%%%%%%%%%%%%%%%%%%%%%%%%%%%%%%%%%%%%%%%%%%%%%%%%%%%%%%%%%%\n",
        "# Import needed packages into the environment\n",
        "# %%%%%%%%%%%%%%%%%%%%%%%%%%%%%%%%%%%%%%%%%%%%%%%%%%%%%%%%%%%%%%%%%%%%%%%%%%%%%\n",
        "\n",
        "from os import listdir as ls\n",
        "\n",
        "import matplotlib.pyplot as plt\n",
        "from torch.utils.data import Dataset, DataLoader\n",
        "\n",
        "from natsort import natsorted\n",
        "\n",
        "from tqdm.notebook import tqdm\n",
        "\n",
        "import torch\n",
        "import numpy as np\n",
        "\n",
        "from segmentation_models_pytorch import Unet\n",
        "from segmentation_models_pytorch.losses import DiceLoss"
      ]
    },
    {
      "cell_type": "markdown",
      "source": [
        "# Train/val loop"
      ],
      "metadata": {
        "id": "tnJtCCgTLZzR"
      }
    },
    {
      "cell_type": "code",
      "source": [
        "# %%%%%%%%%%%%%%%%%%%%%%%%%%%%%%%%%%%%%%%%%%%%%%%%%%%%%%%%%%%%%%%%%%%%%%%%%%%%%\n",
        "# Write the code for train and validation loops.\n",
        "# Send dataloader for the train/validation loop to the train/val function.\n",
        "# You could send any number of arguments to train and val functions in\n",
        "# addition to the dataloader.\n",
        "# train function should return the mean loss over the entire dataset;\n",
        "# val function should return two parameters: mean dice and mean loss (over \n",
        "# the entire validation dataset).\n",
        "#\n",
        "# If you feel confident, you can rewrite given code and change train/val\n",
        "# function (say, make them methods of some class). This is not necessary\n",
        "# and is absolutely up to you. If you change the code of train/val function\n",
        "# you should check that everything works correctly by yourself, \n",
        "# we won't do this!\n",
        "# We will just run the entire notebook and check cells' output.\n",
        "# %%%%%%%%%%%%%%%%%%%%%%%%%%%%%%%%%%%%%%%%%%%%%%%%%%%%%%%%%%%%%%%%%%%%%%%%%%%%%\n",
        "\n",
        "\n",
        "def train(train_loader, *args, **kwargs):\n",
        "    # Your code for the trian loop here\n",
        "\n",
        "    return mean_loss\n",
        "        \n",
        "def val(val_loader, *args, **kwargs):\n",
        "    # Your code for the val loop here\n",
        "\n",
        "    return mean_dice, mean_loss"
      ],
      "metadata": {
        "id": "z8C5eKH2LVzR"
      },
      "execution_count": null,
      "outputs": []
    },
    {
      "cell_type": "markdown",
      "source": [
        "# Load data into the environment"
      ],
      "metadata": {
        "id": "KOzsPn8fkWTk"
      }
    },
    {
      "cell_type": "code",
      "source": [
        "corona_train = np.load('corona_train_segm_dataset.npz')\n",
        "corona_val = np.load('corona_val_segm_dataset.npz')\n",
        "radio_train = np.load('radiopedia_train_segm_dataset.npz')\n",
        "radio_val = np.load('radiopedia_val_segm_dataset.npz')"
      ],
      "metadata": {
        "id": "GIedGJl_h1V0"
      },
      "execution_count": null,
      "outputs": []
    },
    {
      "cell_type": "markdown",
      "source": [
        "# Define Dataset class"
      ],
      "metadata": {
        "id": "f7z4d_l8kc6x"
      }
    },
    {
      "cell_type": "code",
      "execution_count": null,
      "metadata": {
        "id": "sMIshsi35zYv"
      },
      "outputs": [],
      "source": [
        "# %%%%%%%%%%%%%%%%%%%%%%%%%%%%%%%%%%%%%%%%%%%%%%%%%%%%%%%%%%%%%%%%%%%%%%%%%%%%%\n",
        "# Define a subclass of pytorch's Dataset class.\n",
        "# In this class we have to write code (at least) \n",
        "# for three ('virtual') functions:\n",
        "# __init__(self, *args, **kwargs)\n",
        "# __len__(self, *args, **kwargs)\n",
        "# __getitem__(self, idx, *args, **kwargs)\n",
        "# %%%%%%%%%%%%%%%%%%%%%%%%%%%%%%%%%%%%%%%%%%%%%%%%%%%%%%%%%%%%%%%%%%%%%%%%%%%%%\n",
        "\n",
        "\n",
        "class SegmentationDatasetNumpy(Dataset):\n",
        "    def __init__(self, train, dataset):\n",
        "        super().__init__()\n",
        "        assert train in ['train', 'val']\n",
        "        assert dataset in ['corona', 'radiopedia', 'all']\n",
        "        self.train = train\n",
        "        if self.train == 'train':\n",
        "            if dataset == 'corona':\n",
        "                data = corona_train\n",
        "            elif dataset == 'radiopedia':\n",
        "                data = radio_train\n",
        "            else:\n",
        "                # additional exercise (see below)\n",
        "                pass\n",
        "        else:\n",
        "            if dataset == 'corona':\n",
        "                data = corona_val\n",
        "            elif dataset == 'radiopedia':\n",
        "                data = radio_val\n",
        "            else:\n",
        "                # additional exercise (see below)\n",
        "                pass \n",
        "        self.all_data = data['images']\n",
        "        self.all_masks = data['masks']\n",
        "\n",
        "    def __len__(self):\n",
        "        return self.all_data.shape[-1]\n",
        "    \n",
        "    def __getitem__(self, idx):\n",
        "        return self.all_data[...,idx], self.all_masks[...,idx]"
      ]
    },
    {
      "cell_type": "markdown",
      "source": [
        "# Initialize Dataset and DataLoader classes"
      ],
      "metadata": {
        "id": "UwtX2K8okhMc"
      }
    },
    {
      "cell_type": "code",
      "execution_count": null,
      "metadata": {
        "id": "fZkS0ppk6Ozz"
      },
      "outputs": [],
      "source": [
        "# %%%%%%%%%%%%%%%%%%%%%%%%%%%%%%%%%%%%%%%%%%%%%%%%%%%%%%%%%%%%%%%%%%%%%%%%%%%%%\n",
        "# initialize datasets for train/val corona/radiopedia data\n",
        "# %%%%%%%%%%%%%%%%%%%%%%%%%%%%%%%%%%%%%%%%%%%%%%%%%%%%%%%%%%%%%%%%%%%%%%%%%%%%%\n",
        "\n",
        "train_ds_corona = SegmentationDatasetNumpy('train', 'corona')\n",
        "val_ds_corona = SegmentationDatasetNumpy('val', 'corona')\n",
        "train_ds_radio = SegmentationDatasetNumpy('train', 'radiopedia')\n",
        "val_ds_radio = SegmentationDatasetNumpy('val', 'radiopedia')"
      ]
    },
    {
      "cell_type": "code",
      "source": [
        "# %%%%%%%%%%%%%%%%%%%%%%%%%%%%%%%%%%%%%%%%%%%%%%%%%%%%%%%%%%%%%%%%%%%%%%%%%%%%%\n",
        "# initialize DataLoader for train/val corona/radiopedia datasets\n",
        "# %%%%%%%%%%%%%%%%%%%%%%%%%%%%%%%%%%%%%%%%%%%%%%%%%%%%%%%%%%%%%%%%%%%%%%%%%%%%%\n",
        "\n",
        "train_loader_corona = DataLoader(train_ds_corona, batch_size=16, shuffle=True, num_workers=8) \n",
        "val_loader_corona = DataLoader(val_ds_corona, batch_size=16, shuffle=False, num_workers=8)\n",
        "train_loader_radio = DataLoader(train_ds_radio, batch_size=16, shuffle=True, num_workers=8) \n",
        "val_loader_radio = DataLoader(val_ds_radio, batch_size=16, shuffle=False, num_workers=8)"
      ],
      "metadata": {
        "id": "xDds91bu5gPE"
      },
      "execution_count": null,
      "outputs": []
    },
    {
      "cell_type": "markdown",
      "source": [
        "# Define Dice score, the measure of the segmnetation quality"
      ],
      "metadata": {
        "id": "PnGODKLZkmi9"
      }
    },
    {
      "cell_type": "code",
      "source": [
        "# %%%%%%%%%%%%%%%%%%%%%%%%%%%%%%%%%%%%%%%%%%%%%%%%%%%%%%%%%%%%%%%%%%%%%%%%%%%%%\n",
        "# Define dice score for the positive class\n",
        "# %%%%%%%%%%%%%%%%%%%%%%%%%%%%%%%%%%%%%%%%%%%%%%%%%%%%%%%%%%%%%%%%%%%%%%%%%%%%%\n",
        "\n",
        "def calculate_dice(pred, y):\n",
        "  return 2*((pred > 0)*y).sum(axis=(1,2,3)) / (((pred > 0).int() + y).sum(axis=(1,2,3)) + 1e-3)"
      ],
      "metadata": {
        "id": "peif1fYSlsQt"
      },
      "execution_count": null,
      "outputs": []
    },
    {
      "cell_type": "code",
      "execution_count": null,
      "metadata": {
        "id": "ew-soN696udA"
      },
      "outputs": [],
      "source": [
        "# %%%%%%%%%%%%%%%%%%%%%%%%%%%%%%%%%%%%%%%%%%%%%%%%%%%%%%%%%%%%%%%%%%%%%%%%%%%%%\n",
        "# Define the network, criterion (loss function) and the optimizer\n",
        "# BEWARE! The choice of hyperparameters is very important!\n",
        "# Try different values for the learning rate (1e-3, 1e-4, 1e-5, ...);\n",
        "# Feel free to change the optimizer, you could try different encoder or\n",
        "# use Unet++ or other versions of Unet.\n",
        "# %%%%%%%%%%%%%%%%%%%%%%%%%%%%%%%%%%%%%%%%%%%%%%%%%%%%%%%%%%%%%%%%%%%%%%%%%%%%%\n",
        "\n",
        "model = Unet(encoder_name='resnet34', encoder_weights=None, in_channels=1, classes=1)\n",
        "model = model.cuda()\n",
        "\n",
        "criterion = DiceLoss('binary')\n",
        "optimizer = torch.optim.Adam(model.parameters(), lr=1e-3, weight_decay=1e-3)"
      ]
    },
    {
      "cell_type": "code",
      "execution_count": null,
      "metadata": {
        "id": "-UzhwkjC6kFF"
      },
      "outputs": [],
      "source": [
        "epochs = 50 # Feel free to change the number of epochs\n",
        "train_losses = np.zeros(epochs)\n",
        "val_losses = np.zeros(epochs)\n",
        "val_dices_domain = np.zeros(epochs)\n",
        "val_dices_shift = np.zeros(epochs)\n",
        "\n",
        "# %%%%%%%%%%%%%%%%%%%%%%%%%%%%%%%%%%%%%%%%%%%%%%%%%%%%%%%%%%%%%%%%%%%%%%%%%%%%%\n",
        "# Define train/val loop\n",
        "# \n",
        "# For each epoch save the mean value of the loss function for the train loop.\n",
        "#\n",
        "# After each train loop save the mean values of the loss function \n",
        "# and dice score for the dataset which you ***did use*** to train \n",
        "# the neural network.\n",
        "#\n",
        "# After each train loop save the mean values of the loss function \n",
        "# and dice score for the dataset which you ***did NOT use*** to train \n",
        "# the neural network.\n",
        "# \n",
        "# Save the model with the best result obtained on a validation\n",
        "# dataset (the same as was used for training).\n",
        "#\n",
        "# Hint: do not forget to normalize data!\n",
        "# %%%%%%%%%%%%%%%%%%%%%%%%%%%%%%%%%%%%%%%%%%%%%%%%%%%%%%%%%%%%%%%%%%%%%%%%%%%%%\n",
        "\n",
        "for i in range(epochs):\n",
        "    pass"
      ]
    },
    {
      "cell_type": "code",
      "source": [
        "# %%%%%%%%%%%%%%%%%%%%%%%%%%%%%%%%%%%%%%%%%%%%%%%%%%%%%%%%%%%%%%%%%%%%%%%%%%%%%\n",
        "# (maximum 2 points)\n",
        "# Output the best obtained dice score and \n",
        "# plot dice scores for corona and radiopedia validation datasets when trained\n",
        "# on ***corona*** dataset.\n",
        "# You should obtain (best) mean_dice (for corona dataset) > 0.6.\n",
        "# %%%%%%%%%%%%%%%%%%%%%%%%%%%%%%%%%%%%%%%%%%%%%%%%%%%%%%%%%%%%%%%%%%%%%%%%%%%%%\n",
        "\n",
        "###\n",
        "# Your code here\n",
        "###\n",
        "\n",
        "# %%%%%%%%%%%%%%%%%%%%%%%%%%%%%%%%%%%%%%%%%%%%%%%%%%%%%%%%%%%%%%%%%%%%%%%%%%%%%\n",
        "# (maximum 2 points)\n",
        "# Load the best model obtained while training \n",
        "# and run the validation loop one more time.\n",
        "# %%%%%%%%%%%%%%%%%%%%%%%%%%%%%%%%%%%%%%%%%%%%%%%%%%%%%%%%%%%%%%%%%%%%%%%%%%%%%\n",
        "\n",
        "###\n",
        "# Your code here\n",
        "###"
      ],
      "metadata": {
        "id": "05-3Czwzs0v9"
      },
      "execution_count": null,
      "outputs": []
    },
    {
      "cell_type": "code",
      "source": [
        "# %%%%%%%%%%%%%%%%%%%%%%%%%%%%%%%%%%%%%%%%%%%%%%%%%%%%%%%%%%%%%%%%%%%%%%%%%%%%%\n",
        "# (maximum 2 points)\n",
        "# Output the best obtained dice score and \n",
        "# plot dice scores for corona and radiopedia validation datasets when trained\n",
        "# on ***radiopedia*** dataset\n",
        "# You should obtain (best) mean_dice (for radio dataset) > 0.3.\n",
        "#\n",
        "# ***NotaBene***: training on radiopedia is much less stable compared to\n",
        "# training on corona dataset. Nevertheless, you should be able to score \n",
        "# dice measure > 0.3.\n",
        "# %%%%%%%%%%%%%%%%%%%%%%%%%%%%%%%%%%%%%%%%%%%%%%%%%%%%%%%%%%%%%%%%%%%%%%%%%%%%%\n",
        "\n",
        "# %%%%%%%%%%%%%%%%%%%%%%%%%%%%%%%%%%%%%%%%%%%%%%%%%%%%%%%%%%%%%%%%%%%%%%%%%%%%%\n",
        "# (maximum 2 points)\n",
        "# Load the best model obtained while training \n",
        "# and run the validation loop one more time.\n",
        "# %%%%%%%%%%%%%%%%%%%%%%%%%%%%%%%%%%%%%%%%%%%%%%%%%%%%%%%%%%%%%%%%%%%%%%%%%%%%%\n",
        "\n",
        "###\n",
        "# Your code here\n",
        "###"
      ],
      "metadata": {
        "id": "2FX2ZOW8tIB0"
      },
      "execution_count": null,
      "outputs": []
    },
    {
      "cell_type": "code",
      "source": [
        "# %%%%%%%%%%%%%%%%%%%%%%%%%%%%%%%%%%%%%%%%%%%%%%%%%%%%%%%%%%%%%%%%%%%%%%%%%%%%%\n",
        "# (maximum 2 points)\n",
        "# ADDITIONAL EXERCISE \n",
        "# Output the best obtained dice scores and \n",
        "# plot dice scores for corona and radiopedia validation datasets when trained\n",
        "# on ***corona and radiopedia*** datasets. \n",
        "# Try to make use of a mix of two datasets and obtain better results.\n",
        "# %%%%%%%%%%%%%%%%%%%%%%%%%%%%%%%%%%%%%%%%%%%%%%%%%%%%%%%%%%%%%%%%%%%%%%%%%%%%%\n",
        "\n",
        "###\n",
        "# Your code here\n",
        "###"
      ],
      "metadata": {
        "id": "RN4_nwEDtKAc"
      },
      "execution_count": null,
      "outputs": []
    },
    {
      "cell_type": "markdown",
      "source": [
        "### Your conclusion"
      ],
      "metadata": {
        "id": "OYr7R4kuuuIy"
      }
    },
    {
      "cell_type": "code",
      "source": [
        "# %%%%%%%%%%%%%%%%%%%%%%%%%%%%%%%%%%%%%%%%%%%%%%%%%%%%%%%%%%%%%%%%%%%%%%%%%%%%%\n",
        "# (maximum 2 points)\n",
        "# What conclusion could be made? Are we able to generalize to other datasets?\n",
        "# Why?\n",
        "# How do think why results on radiopedia are not so stable compared to those\n",
        "# obtained on the corona dataset?\n",
        "# %%%%%%%%%%%%%%%%%%%%%%%%%%%%%%%%%%%%%%%%%%%%%%%%%%%%%%%%%%%%%%%%%%%%%%%%%%%%%\n",
        "\n",
        "# Please add your thoughts here"
      ],
      "metadata": {
        "id": "y8nDUGd_uxAf"
      },
      "execution_count": null,
      "outputs": []
    }
  ],
  "metadata": {
    "accelerator": "GPU",
    "colab": {
      "provenance": [],
      "collapsed_sections": []
    },
    "gpuClass": "standard",
    "kernelspec": {
      "display_name": "Python 3",
      "name": "python3"
    },
    "language_info": {
      "name": "python"
    }
  },
  "nbformat": 4,
  "nbformat_minor": 0
}