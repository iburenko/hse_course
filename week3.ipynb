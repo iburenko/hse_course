{
 "cells": [
  {
   "cell_type": "code",
   "execution_count": 1,
   "id": "0c726c1a",
   "metadata": {},
   "outputs": [],
   "source": [
    "from os import listdir as ls\n",
    "\n",
    "import matplotlib.pyplot as plt\n",
    "import cv2\n",
    "\n",
    "from torch.utils.data import Dataset, DataLoader\n",
    "\n",
    "from natsort import natsorted\n",
    "\n",
    "import segmentation_models_pytorch\n",
    "from timm import create_model\n",
    "\n",
    "from tqdm.notebook import tqdm\n",
    "\n",
    "import torch\n",
    "import nibabel as nib\n",
    "\n",
    "from monai.transforms import (\n",
    "    AsDiscrete,\n",
    "    AddChanneld,\n",
    "    Compose,\n",
    "    CropForegroundd,\n",
    "    LoadImaged,\n",
    "    Orientationd,\n",
    "    RandFlipd,\n",
    "    RandCropByPosNegLabeld,\n",
    "    RandShiftIntensityd,\n",
    "    ScaleIntensityRanged,\n",
    "    Spacingd,\n",
    "    RandRotate90d,\n",
    "    ToTensord,\n",
    ")\n",
    "\n",
    "import numpy as np\n",
    "\n",
    "from segmentation_models_pytorch import Unet, UnetPlusPlus\n",
    "from segmentation_models_pytorch.losses import DiceLoss\n",
    "\n",
    "from einops import rearrange"
   ]
  },
  {
   "cell_type": "code",
   "execution_count": 2,
   "id": "dbdd00ec",
   "metadata": {},
   "outputs": [],
   "source": [
    "class SegmentationDatasetNumpy(Dataset):\n",
    "    def __init__(self, train, dataset):\n",
    "        super().__init__()\n",
    "        assert train in ['train', 'val']\n",
    "        assert dataset in ['corona', 'radiopedia', 'all']\n",
    "        self.train = train\n",
    "        if self.train == 'train':\n",
    "            if dataset == 'corona':\n",
    "                data = np.load('corona_train_segm_dataset.npz')\n",
    "                self.all_data = data['images']\n",
    "                self.all_masks = data['masks']\n",
    "            elif dataset == 'radiopedia':\n",
    "                data = np.load('radiopedia_train_segm_dataset.npz')\n",
    "                self.all_data = data['images']\n",
    "                self.all_masks = data['masks']\n",
    "            elif dataset == 'all':\n",
    "                data_corona = np.load('corona_train_segm_dataset.npz')\n",
    "                data_radio = np.load('radiopedia_train_segm_dataset.npz')\n",
    "                self.all_data = np.concatenate([data_corona['images'], data_radio['images']], axis=-1)\n",
    "                self.all_masks = np.concatenate([data_corona['masks'], data_radio['masks']], axis=-1)\n",
    "        else:\n",
    "            if dataset == 'corona':\n",
    "                data = np.load('corona_val_segm_dataset.npz')\n",
    "                self.all_data = data['images']\n",
    "                self.all_masks = data['masks']\n",
    "            elif dataset == 'radiopedia':\n",
    "                data = np.load('radiopedia_val_segm_dataset.npz')\n",
    "                self.all_data = data['images']\n",
    "                self.all_masks = data['masks']\n",
    "            elif dataset == 'all':\n",
    "                data_corona = np.load('corona_val_segm_dataset.npz')\n",
    "                data_radio = np.load('radiopedia_val_segm_dataset.npz')\n",
    "                self.all_data = np.concatenate([data_corona['images'], data_radio['images']], axis=-1)\n",
    "                self.all_masks = np.concatenate([data_corona['masks'], data_radio['masks']], axis=-1)\n",
    "\n",
    "    def __len__(self):\n",
    "        return self.all_data.shape[-1]\n",
    "    \n",
    "    def __getitem__(self, idx):\n",
    "#         print(idx)\n",
    "        return self.all_data[...,idx], self.all_masks[...,idx]"
   ]
  },
  {
   "cell_type": "code",
   "execution_count": 10,
   "id": "1cec78f5",
   "metadata": {},
   "outputs": [],
   "source": [
    "class SegmentationDataset(Dataset):\n",
    "    def __init__(self, train):\n",
    "        super().__init__()\n",
    "        assert train in ['train', 'val']\n",
    "        self.train = train\n",
    "        self.prefix = '/media/ssd-3t/datasets/course_data/covid_segmentation/'\n",
    "        all_files = ls(self.prefix+'images')\n",
    "        corona_files = natsorted([elem for elem in all_files if 'corona' in elem])\n",
    "        radiopedia_files = natsorted([elem for elem in all_files if 'radio' in elem])\n",
    "        thr_corona = int(len(corona_files)*0.8)\n",
    "        thr_radio = int(len(radiopedia_files)*0.8)\n",
    "        if self.train == 'train':\n",
    "            self.all_files = corona_files[:thr_corona]\n",
    "#             self.all_files = radiopedia_files[:thr_radio]\n",
    "        else:\n",
    "            self.all_files = corona_files[thr_corona:]\n",
    "#             self.all_files = radiopedia_files[thr_radio:]\n",
    "        all_data = None\n",
    "        all_masks = None\n",
    "        for elem in self.all_files:\n",
    "            img_data = nib.load(self.prefix+'images/'+elem).get_fdata().astype('float32')\n",
    "            img_data = cv2.resize(img_data, (224,224))\n",
    "            mask_data = nib.load(self.prefix+'masks/'+elem).get_fdata().astype('uint8')\n",
    "            mask_data = cv2.resize(mask_data, (224,224))\n",
    "            if all_data is not None:\n",
    "                all_data = np.concatenate([all_data, img_data], axis=-1)\n",
    "                all_masks = np.concatenate([all_masks, mask_data], axis=-1)\n",
    "            else:\n",
    "                all_data = img_data\n",
    "                all_masks = mask_data\n",
    "        self.all_data = all_data\n",
    "        self.all_masks = all_masks\n",
    "        \n",
    "    def __len__(self):\n",
    "        return self.all_data.shape[-1]\n",
    "    \n",
    "    def __getitem__(self, idx):\n",
    "#         print(idx)\n",
    "        return self.all_data[...,idx], self.all_masks[...,idx]"
   ]
  },
  {
   "cell_type": "code",
   "execution_count": 119,
   "id": "c3a148ca",
   "metadata": {},
   "outputs": [],
   "source": [
    "val_ds = SegmentationDatasetNumpy('val', 'corona')\n",
    "train_ds = SegmentationDatasetNumpy('train', 'corona')\n",
    "\n",
    "val_ds_rad = SegmentationDatasetNumpy('val', 'radiopedia')\n",
    "train_ds_rad = SegmentationDatasetNumpy('train', 'radiopedia')\n",
    "\n",
    "val_ds_all = SegmentationDatasetNumpy('val', 'all')\n",
    "train_ds_all = SegmentationDatasetNumpy('train', 'all')"
   ]
  },
  {
   "cell_type": "code",
   "execution_count": 120,
   "id": "c44ec68d",
   "metadata": {},
   "outputs": [],
   "source": [
    "mean = train_ds_all.all_data.mean()\n",
    "std = train_ds_all.all_data.std()"
   ]
  },
  {
   "cell_type": "code",
   "execution_count": 11,
   "id": "b7117508",
   "metadata": {},
   "outputs": [],
   "source": [
    "val_ds = SegmentationDataset('val')\n",
    "train_ds = SegmentationDataset('train')\n"
   ]
  },
  {
   "cell_type": "code",
   "execution_count": 12,
   "id": "b2096784",
   "metadata": {},
   "outputs": [],
   "source": [
    "np.savez_compressed('corona_train_segm_dataset', images=train_ds.all_data, masks=train_ds.all_masks)\n",
    "np.savez_compressed('corona_val_segm_dataset', images=val_ds.all_data, masks=val_ds.all_masks)"
   ]
  },
  {
   "cell_type": "code",
   "execution_count": 123,
   "id": "15501c77",
   "metadata": {},
   "outputs": [],
   "source": [
    "# train_ds.all_data = train_ds.all_data[...,150:164]\n",
    "# train_ds.all_masks = train_ds.all_masks[...,150:164]\n",
    "# val_ds.all_data = train_ds.all_data\n",
    "# val_ds.all_masks = train_ds.all_masks"
   ]
  },
  {
   "cell_type": "code",
   "execution_count": 124,
   "id": "aae74c9f",
   "metadata": {},
   "outputs": [],
   "source": [
    "train_loader = DataLoader(train_ds, batch_size=16, shuffle=True, num_workers=8)\n",
    "val_loader = DataLoader(val_ds, batch_size=16, shuffle=False, num_workers=8)\n",
    "\n",
    "train_loader_rad = DataLoader(train_ds_rad, batch_size=16, shuffle=True, num_workers=8)\n",
    "val_loader_rad = DataLoader(val_ds_rad, batch_size=16, shuffle=False, num_workers=8)\n",
    "\n",
    "train_loader_all = DataLoader(train_ds_all, batch_size=16, shuffle=True, num_workers=8)\n",
    "val_loader_all = DataLoader(val_ds_all, batch_size=16, shuffle=False, num_workers=8)\n",
    "\n",
    "model = Unet(encoder_name='resnet50', encoder_weights=None, in_channels=1, classes=1)\n",
    "model = model.cuda()\n",
    "\n",
    "criterion = torch.nn.BCEWithLogitsLoss()\n",
    "criterion = DiceLoss('binary')\n",
    "optimizer = torch.optim.Adam(model.parameters(), lr=1e-3, weight_decay=1e-5)"
   ]
  },
  {
   "cell_type": "code",
   "execution_count": 125,
   "id": "d56dd5b5",
   "metadata": {},
   "outputs": [],
   "source": [
    "def calculate_dice(pred, y):\n",
    "    return 2*((pred>0)*y).sum(axis=(1,2,3))/((pred>0).sum(axis=(1,2,3)) + y.sum(axis=(1,2,3))+1e-3)\n",
    "\n",
    "def dice_loss(pred, y):\n",
    "    probs = torch.sigmoid(pred)\n",
    "    return 1 - (2*probs.int()*y).sum()/(probs.sum()+y.sum()+1e-3)\n",
    "\n",
    "def train(train_loader):\n",
    "    model.train()\n",
    "    model.zero_grad()\n",
    "    train_loss = 0\n",
    "    for batch in tqdm(train_loader):\n",
    "        x, y = batch\n",
    "        x = (x - mean)/std\n",
    "        x = x.unsqueeze(1).cuda()\n",
    "        y = y.unsqueeze(1).cuda().float()\n",
    "        pred = model(x)\n",
    "        loss = criterion(pred, y)\n",
    "        train_loss += loss.item()\n",
    "        loss.backward()\n",
    "        optimizer.step()\n",
    "        optimizer.zero_grad()\n",
    "    return train_loss/len(train_loader)\n",
    "        \n",
    "def val(val_loader):\n",
    "    model.eval()\n",
    "    val_loss = 0\n",
    "    val_dice = 0\n",
    "    non_zeros_y = 0\n",
    "    for batch in tqdm(val_loader):\n",
    "        x, y = batch\n",
    "        x = (x - mean)/std\n",
    "        x = x.unsqueeze(1).cuda()\n",
    "        y = y.unsqueeze(1).cuda().float()\n",
    "        with torch.no_grad():\n",
    "            pred = model(x)\n",
    "        loss = criterion(pred, y)\n",
    "        val_loss += loss.item()\n",
    "        d = calculate_dice(pred, y)\n",
    "        val_dice += d.sum()\n",
    "        non_zeros_y += (y.sum(axis=[1,2,3]) != 0).sum()\n",
    "    return val_dice/non_zeros_y, val_loss/len(val_loader), pred, y"
   ]
  },
  {
   "cell_type": "code",
   "execution_count": 128,
   "id": "5b7db445",
   "metadata": {
    "scrolled": false
   },
   "outputs": [
    {
     "data": {
      "application/vnd.jupyter.widget-view+json": {
       "model_id": "8f7ba77f8c324af78b062dbbb5e68f77",
       "version_major": 2,
       "version_minor": 0
      },
      "text/plain": [
       "  0%|          | 0/35 [00:00<?, ?it/s]"
      ]
     },
     "metadata": {},
     "output_type": "display_data"
    },
    {
     "name": "stdout",
     "output_type": "stream",
     "text": [
      "tensor(5.2980e-06, device='cuda:0')\n"
     ]
    },
    {
     "data": {
      "application/vnd.jupyter.widget-view+json": {
       "model_id": "647a23686706453cac2ae723be2ff5b7",
       "version_major": 2,
       "version_minor": 0
      },
      "text/plain": [
       "  0%|          | 0/177 [00:00<?, ?it/s]"
      ]
     },
     "metadata": {},
     "output_type": "display_data"
    },
    {
     "data": {
      "application/vnd.jupyter.widget-view+json": {
       "model_id": "8196ed3df15a465b8c4b3ccdddc78ea6",
       "version_major": 2,
       "version_minor": 0
      },
      "text/plain": [
       "  0%|          | 0/35 [00:00<?, ?it/s]"
      ]
     },
     "metadata": {},
     "output_type": "display_data"
    },
    {
     "name": "stdout",
     "output_type": "stream",
     "text": [
      "0 tensor(0.6923, device='cuda:0')\n"
     ]
    },
    {
     "data": {
      "application/vnd.jupyter.widget-view+json": {
       "model_id": "9cbf2318f717485d83f603f63b7ee40f",
       "version_major": 2,
       "version_minor": 0
      },
      "text/plain": [
       "  0%|          | 0/9 [00:00<?, ?it/s]"
      ]
     },
     "metadata": {},
     "output_type": "display_data"
    },
    {
     "name": "stdout",
     "output_type": "stream",
     "text": [
      "tensor(0., device='cuda:0')\n"
     ]
    },
    {
     "data": {
      "application/vnd.jupyter.widget-view+json": {
       "model_id": "9df13f9e5618405682e1b5cf838b8dea",
       "version_major": 2,
       "version_minor": 0
      },
      "text/plain": [
       "  0%|          | 0/177 [00:00<?, ?it/s]"
      ]
     },
     "metadata": {},
     "output_type": "display_data"
    },
    {
     "data": {
      "application/vnd.jupyter.widget-view+json": {
       "model_id": "e903a36c0e074cf2bb86d353acffdec3",
       "version_major": 2,
       "version_minor": 0
      },
      "text/plain": [
       "  0%|          | 0/35 [00:00<?, ?it/s]"
      ]
     },
     "metadata": {},
     "output_type": "display_data"
    },
    {
     "name": "stdout",
     "output_type": "stream",
     "text": [
      "1 tensor(0.7022, device='cuda:0')\n"
     ]
    },
    {
     "data": {
      "application/vnd.jupyter.widget-view+json": {
       "model_id": "9fa55c2b9cba4bf5b416bba42153d083",
       "version_major": 2,
       "version_minor": 0
      },
      "text/plain": [
       "  0%|          | 0/9 [00:00<?, ?it/s]"
      ]
     },
     "metadata": {},
     "output_type": "display_data"
    },
    {
     "name": "stdout",
     "output_type": "stream",
     "text": [
      "tensor(0., device='cuda:0')\n"
     ]
    },
    {
     "data": {
      "application/vnd.jupyter.widget-view+json": {
       "model_id": "bbd9a89b2c90496e9f3eeb9a48824186",
       "version_major": 2,
       "version_minor": 0
      },
      "text/plain": [
       "  0%|          | 0/177 [00:00<?, ?it/s]"
      ]
     },
     "metadata": {},
     "output_type": "display_data"
    },
    {
     "data": {
      "application/vnd.jupyter.widget-view+json": {
       "model_id": "95b996d2ece243bb9aac29b479047502",
       "version_major": 2,
       "version_minor": 0
      },
      "text/plain": [
       "  0%|          | 0/35 [00:00<?, ?it/s]"
      ]
     },
     "metadata": {},
     "output_type": "display_data"
    },
    {
     "name": "stdout",
     "output_type": "stream",
     "text": [
      "2 tensor(0.6529, device='cuda:0')\n"
     ]
    },
    {
     "data": {
      "application/vnd.jupyter.widget-view+json": {
       "model_id": "18526fdbe0a241dcb6aee50922732f17",
       "version_major": 2,
       "version_minor": 0
      },
      "text/plain": [
       "  0%|          | 0/9 [00:00<?, ?it/s]"
      ]
     },
     "metadata": {},
     "output_type": "display_data"
    },
    {
     "name": "stdout",
     "output_type": "stream",
     "text": [
      "tensor(0., device='cuda:0')\n"
     ]
    },
    {
     "data": {
      "application/vnd.jupyter.widget-view+json": {
       "model_id": "f867be1c99fc42a2b83d948e1301962f",
       "version_major": 2,
       "version_minor": 0
      },
      "text/plain": [
       "  0%|          | 0/177 [00:00<?, ?it/s]"
      ]
     },
     "metadata": {},
     "output_type": "display_data"
    },
    {
     "data": {
      "application/vnd.jupyter.widget-view+json": {
       "model_id": "a2030d7a2dd34baebf8001feb38421fc",
       "version_major": 2,
       "version_minor": 0
      },
      "text/plain": [
       "  0%|          | 0/35 [00:00<?, ?it/s]"
      ]
     },
     "metadata": {},
     "output_type": "display_data"
    },
    {
     "name": "stdout",
     "output_type": "stream",
     "text": [
      "3 tensor(0.7150, device='cuda:0')\n"
     ]
    },
    {
     "data": {
      "application/vnd.jupyter.widget-view+json": {
       "model_id": "8bc05db04087420ea885ebf7545d0c74",
       "version_major": 2,
       "version_minor": 0
      },
      "text/plain": [
       "  0%|          | 0/9 [00:00<?, ?it/s]"
      ]
     },
     "metadata": {},
     "output_type": "display_data"
    },
    {
     "name": "stdout",
     "output_type": "stream",
     "text": [
      "tensor(0., device='cuda:0')\n"
     ]
    },
    {
     "data": {
      "application/vnd.jupyter.widget-view+json": {
       "model_id": "cc097939d5c646848e3d8ef2d119def8",
       "version_major": 2,
       "version_minor": 0
      },
      "text/plain": [
       "  0%|          | 0/177 [00:00<?, ?it/s]"
      ]
     },
     "metadata": {},
     "output_type": "display_data"
    },
    {
     "data": {
      "application/vnd.jupyter.widget-view+json": {
       "model_id": "7286bb1ca4ed4d7fb26de01dd1e3c6ea",
       "version_major": 2,
       "version_minor": 0
      },
      "text/plain": [
       "  0%|          | 0/35 [00:00<?, ?it/s]"
      ]
     },
     "metadata": {},
     "output_type": "display_data"
    },
    {
     "name": "stdout",
     "output_type": "stream",
     "text": [
      "4 tensor(0.6790, device='cuda:0')\n"
     ]
    },
    {
     "data": {
      "application/vnd.jupyter.widget-view+json": {
       "model_id": "8394d2c573de4ebfaa8da01a2582c8ab",
       "version_major": 2,
       "version_minor": 0
      },
      "text/plain": [
       "  0%|          | 0/9 [00:00<?, ?it/s]"
      ]
     },
     "metadata": {},
     "output_type": "display_data"
    },
    {
     "name": "stdout",
     "output_type": "stream",
     "text": [
      "tensor(0., device='cuda:0')\n"
     ]
    },
    {
     "data": {
      "application/vnd.jupyter.widget-view+json": {
       "model_id": "aa260b5eb29c45d3993072db30211256",
       "version_major": 2,
       "version_minor": 0
      },
      "text/plain": [
       "  0%|          | 0/177 [00:00<?, ?it/s]"
      ]
     },
     "metadata": {},
     "output_type": "display_data"
    },
    {
     "data": {
      "application/vnd.jupyter.widget-view+json": {
       "model_id": "f0ea9ab49a544ece81110080c2dd86f7",
       "version_major": 2,
       "version_minor": 0
      },
      "text/plain": [
       "  0%|          | 0/35 [00:00<?, ?it/s]"
      ]
     },
     "metadata": {},
     "output_type": "display_data"
    },
    {
     "name": "stdout",
     "output_type": "stream",
     "text": [
      "5 tensor(0.6976, device='cuda:0')\n"
     ]
    },
    {
     "data": {
      "application/vnd.jupyter.widget-view+json": {
       "model_id": "e3705559ccdd420d8a9e1fafcc0e8272",
       "version_major": 2,
       "version_minor": 0
      },
      "text/plain": [
       "  0%|          | 0/9 [00:00<?, ?it/s]"
      ]
     },
     "metadata": {},
     "output_type": "display_data"
    },
    {
     "name": "stdout",
     "output_type": "stream",
     "text": [
      "tensor(0., device='cuda:0')\n"
     ]
    },
    {
     "data": {
      "application/vnd.jupyter.widget-view+json": {
       "model_id": "94849ca4a1e043048f95c980a5884e78",
       "version_major": 2,
       "version_minor": 0
      },
      "text/plain": [
       "  0%|          | 0/177 [00:00<?, ?it/s]"
      ]
     },
     "metadata": {},
     "output_type": "display_data"
    },
    {
     "data": {
      "application/vnd.jupyter.widget-view+json": {
       "model_id": "00b580c8795d44fda5dbb895ce77cff9",
       "version_major": 2,
       "version_minor": 0
      },
      "text/plain": [
       "  0%|          | 0/35 [00:00<?, ?it/s]"
      ]
     },
     "metadata": {},
     "output_type": "display_data"
    },
    {
     "name": "stdout",
     "output_type": "stream",
     "text": [
      "6 tensor(0.6975, device='cuda:0')\n"
     ]
    },
    {
     "data": {
      "application/vnd.jupyter.widget-view+json": {
       "model_id": "3380148228ca44fba47e97eea3fb0db3",
       "version_major": 2,
       "version_minor": 0
      },
      "text/plain": [
       "  0%|          | 0/9 [00:00<?, ?it/s]"
      ]
     },
     "metadata": {},
     "output_type": "display_data"
    },
    {
     "name": "stdout",
     "output_type": "stream",
     "text": [
      "tensor(0., device='cuda:0')\n"
     ]
    },
    {
     "data": {
      "application/vnd.jupyter.widget-view+json": {
       "model_id": "8d91fc2b2f4047d08e7652e72a92de60",
       "version_major": 2,
       "version_minor": 0
      },
      "text/plain": [
       "  0%|          | 0/177 [00:00<?, ?it/s]"
      ]
     },
     "metadata": {},
     "output_type": "display_data"
    },
    {
     "data": {
      "application/vnd.jupyter.widget-view+json": {
       "model_id": "089171041d5e4ee29dfcc3522ed6c610",
       "version_major": 2,
       "version_minor": 0
      },
      "text/plain": [
       "  0%|          | 0/35 [00:00<?, ?it/s]"
      ]
     },
     "metadata": {},
     "output_type": "display_data"
    },
    {
     "name": "stdout",
     "output_type": "stream",
     "text": [
      "7 tensor(0.6842, device='cuda:0')\n"
     ]
    },
    {
     "data": {
      "application/vnd.jupyter.widget-view+json": {
       "model_id": "506b2e4b07bf4a82ad28c72cf6924693",
       "version_major": 2,
       "version_minor": 0
      },
      "text/plain": [
       "  0%|          | 0/9 [00:00<?, ?it/s]"
      ]
     },
     "metadata": {},
     "output_type": "display_data"
    },
    {
     "name": "stdout",
     "output_type": "stream",
     "text": [
      "tensor(0., device='cuda:0')\n"
     ]
    },
    {
     "data": {
      "application/vnd.jupyter.widget-view+json": {
       "model_id": "43fec1b9d13c4d4aa8fce54d7747ca94",
       "version_major": 2,
       "version_minor": 0
      },
      "text/plain": [
       "  0%|          | 0/177 [00:00<?, ?it/s]"
      ]
     },
     "metadata": {},
     "output_type": "display_data"
    },
    {
     "data": {
      "application/vnd.jupyter.widget-view+json": {
       "model_id": "0fb184b553294911ad474d6d9f3fa21d",
       "version_major": 2,
       "version_minor": 0
      },
      "text/plain": [
       "  0%|          | 0/35 [00:00<?, ?it/s]"
      ]
     },
     "metadata": {},
     "output_type": "display_data"
    },
    {
     "name": "stdout",
     "output_type": "stream",
     "text": [
      "8 tensor(0.7015, device='cuda:0')\n"
     ]
    },
    {
     "data": {
      "application/vnd.jupyter.widget-view+json": {
       "model_id": "453175287814438a98e303c7bad563ae",
       "version_major": 2,
       "version_minor": 0
      },
      "text/plain": [
       "  0%|          | 0/9 [00:00<?, ?it/s]"
      ]
     },
     "metadata": {},
     "output_type": "display_data"
    },
    {
     "name": "stdout",
     "output_type": "stream",
     "text": [
      "tensor(0., device='cuda:0')\n"
     ]
    },
    {
     "data": {
      "application/vnd.jupyter.widget-view+json": {
       "model_id": "ee76826229174de495ca33dfb83d7872",
       "version_major": 2,
       "version_minor": 0
      },
      "text/plain": [
       "  0%|          | 0/177 [00:00<?, ?it/s]"
      ]
     },
     "metadata": {},
     "output_type": "display_data"
    },
    {
     "data": {
      "application/vnd.jupyter.widget-view+json": {
       "model_id": "36b5d0573926430d90231e2363550d13",
       "version_major": 2,
       "version_minor": 0
      },
      "text/plain": [
       "  0%|          | 0/35 [00:00<?, ?it/s]"
      ]
     },
     "metadata": {},
     "output_type": "display_data"
    },
    {
     "name": "stdout",
     "output_type": "stream",
     "text": [
      "9 tensor(0.7063, device='cuda:0')\n"
     ]
    },
    {
     "data": {
      "application/vnd.jupyter.widget-view+json": {
       "model_id": "48a0f64b26d04e539dddf4a96ffecef5",
       "version_major": 2,
       "version_minor": 0
      },
      "text/plain": [
       "  0%|          | 0/9 [00:00<?, ?it/s]"
      ]
     },
     "metadata": {},
     "output_type": "display_data"
    },
    {
     "name": "stdout",
     "output_type": "stream",
     "text": [
      "tensor(0., device='cuda:0')\n"
     ]
    },
    {
     "data": {
      "application/vnd.jupyter.widget-view+json": {
       "model_id": "8b736c2148e441f095056ad876300ca2",
       "version_major": 2,
       "version_minor": 0
      },
      "text/plain": [
       "  0%|          | 0/177 [00:00<?, ?it/s]"
      ]
     },
     "metadata": {},
     "output_type": "display_data"
    },
    {
     "data": {
      "application/vnd.jupyter.widget-view+json": {
       "model_id": "82a4774f826c4bf689d12a4da17687bf",
       "version_major": 2,
       "version_minor": 0
      },
      "text/plain": [
       "  0%|          | 0/35 [00:00<?, ?it/s]"
      ]
     },
     "metadata": {},
     "output_type": "display_data"
    },
    {
     "name": "stdout",
     "output_type": "stream",
     "text": [
      "10 tensor(0.6918, device='cuda:0')\n"
     ]
    },
    {
     "data": {
      "application/vnd.jupyter.widget-view+json": {
       "model_id": "59fd7a601e9f4fa8acb7f2bb9b6f5451",
       "version_major": 2,
       "version_minor": 0
      },
      "text/plain": [
       "  0%|          | 0/9 [00:00<?, ?it/s]"
      ]
     },
     "metadata": {},
     "output_type": "display_data"
    },
    {
     "name": "stdout",
     "output_type": "stream",
     "text": [
      "tensor(0., device='cuda:0')\n"
     ]
    },
    {
     "data": {
      "application/vnd.jupyter.widget-view+json": {
       "model_id": "636f6ba4c27d46fb8660e4a35064747e",
       "version_major": 2,
       "version_minor": 0
      },
      "text/plain": [
       "  0%|          | 0/177 [00:00<?, ?it/s]"
      ]
     },
     "metadata": {},
     "output_type": "display_data"
    },
    {
     "data": {
      "application/vnd.jupyter.widget-view+json": {
       "model_id": "5ec8bcaa2db14505a7369e92d0ff2858",
       "version_major": 2,
       "version_minor": 0
      },
      "text/plain": [
       "  0%|          | 0/35 [00:00<?, ?it/s]"
      ]
     },
     "metadata": {},
     "output_type": "display_data"
    },
    {
     "name": "stdout",
     "output_type": "stream",
     "text": [
      "11 tensor(0.7058, device='cuda:0')\n"
     ]
    },
    {
     "data": {
      "application/vnd.jupyter.widget-view+json": {
       "model_id": "7579b6f7dfdd4b49920198087acce709",
       "version_major": 2,
       "version_minor": 0
      },
      "text/plain": [
       "  0%|          | 0/9 [00:00<?, ?it/s]"
      ]
     },
     "metadata": {},
     "output_type": "display_data"
    },
    {
     "name": "stdout",
     "output_type": "stream",
     "text": [
      "tensor(0., device='cuda:0')\n"
     ]
    },
    {
     "data": {
      "application/vnd.jupyter.widget-view+json": {
       "model_id": "d9224104c5fa4cdcb0257230498434c9",
       "version_major": 2,
       "version_minor": 0
      },
      "text/plain": [
       "  0%|          | 0/177 [00:00<?, ?it/s]"
      ]
     },
     "metadata": {},
     "output_type": "display_data"
    },
    {
     "data": {
      "application/vnd.jupyter.widget-view+json": {
       "model_id": "fab6ac6143214052bfd2330534fa5eb0",
       "version_major": 2,
       "version_minor": 0
      },
      "text/plain": [
       "  0%|          | 0/35 [00:00<?, ?it/s]"
      ]
     },
     "metadata": {},
     "output_type": "display_data"
    },
    {
     "name": "stdout",
     "output_type": "stream",
     "text": [
      "12 tensor(0.6779, device='cuda:0')\n"
     ]
    },
    {
     "data": {
      "application/vnd.jupyter.widget-view+json": {
       "model_id": "2575cfbccddc492da694f612eb62474c",
       "version_major": 2,
       "version_minor": 0
      },
      "text/plain": [
       "  0%|          | 0/9 [00:00<?, ?it/s]"
      ]
     },
     "metadata": {},
     "output_type": "display_data"
    },
    {
     "name": "stdout",
     "output_type": "stream",
     "text": [
      "tensor(0., device='cuda:0')\n"
     ]
    },
    {
     "data": {
      "application/vnd.jupyter.widget-view+json": {
       "model_id": "7c1224cef16f4226a32649c643e3d3c2",
       "version_major": 2,
       "version_minor": 0
      },
      "text/plain": [
       "  0%|          | 0/177 [00:00<?, ?it/s]"
      ]
     },
     "metadata": {},
     "output_type": "display_data"
    },
    {
     "data": {
      "application/vnd.jupyter.widget-view+json": {
       "model_id": "5fe0dd5175204bea96dcd8e668a2bf3b",
       "version_major": 2,
       "version_minor": 0
      },
      "text/plain": [
       "  0%|          | 0/35 [00:00<?, ?it/s]"
      ]
     },
     "metadata": {},
     "output_type": "display_data"
    },
    {
     "name": "stdout",
     "output_type": "stream",
     "text": [
      "13 tensor(0.6886, device='cuda:0')\n"
     ]
    },
    {
     "data": {
      "application/vnd.jupyter.widget-view+json": {
       "model_id": "43cbe1b859f642aab304e3e318806111",
       "version_major": 2,
       "version_minor": 0
      },
      "text/plain": [
       "  0%|          | 0/9 [00:00<?, ?it/s]"
      ]
     },
     "metadata": {},
     "output_type": "display_data"
    },
    {
     "name": "stdout",
     "output_type": "stream",
     "text": [
      "tensor(0., device='cuda:0')\n"
     ]
    },
    {
     "data": {
      "application/vnd.jupyter.widget-view+json": {
       "model_id": "e239596d745e4cc688e6c5f68b468945",
       "version_major": 2,
       "version_minor": 0
      },
      "text/plain": [
       "  0%|          | 0/177 [00:00<?, ?it/s]"
      ]
     },
     "metadata": {},
     "output_type": "display_data"
    },
    {
     "data": {
      "application/vnd.jupyter.widget-view+json": {
       "model_id": "556438d6502b4d92a7fbc408930edc8b",
       "version_major": 2,
       "version_minor": 0
      },
      "text/plain": [
       "  0%|          | 0/35 [00:00<?, ?it/s]"
      ]
     },
     "metadata": {},
     "output_type": "display_data"
    },
    {
     "name": "stdout",
     "output_type": "stream",
     "text": [
      "14 tensor(0.7025, device='cuda:0')\n"
     ]
    },
    {
     "data": {
      "application/vnd.jupyter.widget-view+json": {
       "model_id": "fa5fc098b9984955ab31be16f855e6e2",
       "version_major": 2,
       "version_minor": 0
      },
      "text/plain": [
       "  0%|          | 0/9 [00:00<?, ?it/s]"
      ]
     },
     "metadata": {},
     "output_type": "display_data"
    },
    {
     "name": "stdout",
     "output_type": "stream",
     "text": [
      "tensor(0., device='cuda:0')\n"
     ]
    },
    {
     "data": {
      "application/vnd.jupyter.widget-view+json": {
       "model_id": "fa65dde79cfd4400bf156cf2cf448467",
       "version_major": 2,
       "version_minor": 0
      },
      "text/plain": [
       "  0%|          | 0/177 [00:00<?, ?it/s]"
      ]
     },
     "metadata": {},
     "output_type": "display_data"
    },
    {
     "data": {
      "application/vnd.jupyter.widget-view+json": {
       "model_id": "cc1a55a7b48d460dba2b1cc19f77543d",
       "version_major": 2,
       "version_minor": 0
      },
      "text/plain": [
       "  0%|          | 0/35 [00:00<?, ?it/s]"
      ]
     },
     "metadata": {},
     "output_type": "display_data"
    },
    {
     "name": "stdout",
     "output_type": "stream",
     "text": [
      "15 tensor(0.6891, device='cuda:0')\n"
     ]
    },
    {
     "data": {
      "application/vnd.jupyter.widget-view+json": {
       "model_id": "851572365b5347ebb0a697741e469a4f",
       "version_major": 2,
       "version_minor": 0
      },
      "text/plain": [
       "  0%|          | 0/9 [00:00<?, ?it/s]"
      ]
     },
     "metadata": {},
     "output_type": "display_data"
    },
    {
     "name": "stdout",
     "output_type": "stream",
     "text": [
      "tensor(0., device='cuda:0')\n"
     ]
    },
    {
     "data": {
      "application/vnd.jupyter.widget-view+json": {
       "model_id": "49bd444cf782482cae6324a364988682",
       "version_major": 2,
       "version_minor": 0
      },
      "text/plain": [
       "  0%|          | 0/177 [00:00<?, ?it/s]"
      ]
     },
     "metadata": {},
     "output_type": "display_data"
    },
    {
     "data": {
      "application/vnd.jupyter.widget-view+json": {
       "model_id": "4f699768c6ad480197fe55335040f69d",
       "version_major": 2,
       "version_minor": 0
      },
      "text/plain": [
       "  0%|          | 0/35 [00:00<?, ?it/s]"
      ]
     },
     "metadata": {},
     "output_type": "display_data"
    },
    {
     "name": "stdout",
     "output_type": "stream",
     "text": [
      "16 tensor(0.7176, device='cuda:0')\n"
     ]
    },
    {
     "data": {
      "application/vnd.jupyter.widget-view+json": {
       "model_id": "1c1b98648e124e75800ae29e54945c6d",
       "version_major": 2,
       "version_minor": 0
      },
      "text/plain": [
       "  0%|          | 0/9 [00:00<?, ?it/s]"
      ]
     },
     "metadata": {},
     "output_type": "display_data"
    },
    {
     "name": "stdout",
     "output_type": "stream",
     "text": [
      "tensor(0., device='cuda:0')\n"
     ]
    },
    {
     "data": {
      "application/vnd.jupyter.widget-view+json": {
       "model_id": "e36c8d7ea0f14dbfbfa98c888b9855b2",
       "version_major": 2,
       "version_minor": 0
      },
      "text/plain": [
       "  0%|          | 0/177 [00:00<?, ?it/s]"
      ]
     },
     "metadata": {},
     "output_type": "display_data"
    },
    {
     "data": {
      "application/vnd.jupyter.widget-view+json": {
       "model_id": "dc93b2d902cb4b30af848ef51fad6338",
       "version_major": 2,
       "version_minor": 0
      },
      "text/plain": [
       "  0%|          | 0/35 [00:00<?, ?it/s]"
      ]
     },
     "metadata": {},
     "output_type": "display_data"
    },
    {
     "name": "stdout",
     "output_type": "stream",
     "text": [
      "17 tensor(0.7092, device='cuda:0')\n"
     ]
    },
    {
     "data": {
      "application/vnd.jupyter.widget-view+json": {
       "model_id": "9d10a96d06ba425c843555b419cd32a0",
       "version_major": 2,
       "version_minor": 0
      },
      "text/plain": [
       "  0%|          | 0/9 [00:00<?, ?it/s]"
      ]
     },
     "metadata": {},
     "output_type": "display_data"
    },
    {
     "name": "stdout",
     "output_type": "stream",
     "text": [
      "tensor(0., device='cuda:0')\n"
     ]
    },
    {
     "data": {
      "application/vnd.jupyter.widget-view+json": {
       "model_id": "ea00f6ae67d4406c9f31c4c6720ea7b6",
       "version_major": 2,
       "version_minor": 0
      },
      "text/plain": [
       "  0%|          | 0/177 [00:00<?, ?it/s]"
      ]
     },
     "metadata": {},
     "output_type": "display_data"
    },
    {
     "data": {
      "application/vnd.jupyter.widget-view+json": {
       "model_id": "fd984c1de41043b5bfdc449e856a05f8",
       "version_major": 2,
       "version_minor": 0
      },
      "text/plain": [
       "  0%|          | 0/35 [00:00<?, ?it/s]"
      ]
     },
     "metadata": {},
     "output_type": "display_data"
    },
    {
     "name": "stdout",
     "output_type": "stream",
     "text": [
      "18 tensor(0.6881, device='cuda:0')\n"
     ]
    },
    {
     "data": {
      "application/vnd.jupyter.widget-view+json": {
       "model_id": "41cb0ba5b5d44ff0a6c209447529bb27",
       "version_major": 2,
       "version_minor": 0
      },
      "text/plain": [
       "  0%|          | 0/9 [00:00<?, ?it/s]"
      ]
     },
     "metadata": {},
     "output_type": "display_data"
    },
    {
     "name": "stdout",
     "output_type": "stream",
     "text": [
      "tensor(0., device='cuda:0')\n"
     ]
    },
    {
     "data": {
      "application/vnd.jupyter.widget-view+json": {
       "model_id": "2c8cefb8c6ab41f3859c0b7f253e1de7",
       "version_major": 2,
       "version_minor": 0
      },
      "text/plain": [
       "  0%|          | 0/177 [00:00<?, ?it/s]"
      ]
     },
     "metadata": {},
     "output_type": "display_data"
    },
    {
     "data": {
      "application/vnd.jupyter.widget-view+json": {
       "model_id": "984771bd141046f38d572b1065d5e7be",
       "version_major": 2,
       "version_minor": 0
      },
      "text/plain": [
       "  0%|          | 0/35 [00:00<?, ?it/s]"
      ]
     },
     "metadata": {},
     "output_type": "display_data"
    },
    {
     "name": "stdout",
     "output_type": "stream",
     "text": [
      "19 tensor(0.7127, device='cuda:0')\n"
     ]
    },
    {
     "data": {
      "application/vnd.jupyter.widget-view+json": {
       "model_id": "ff7d8fb3d3db4cdaafba2760e94ffcc7",
       "version_major": 2,
       "version_minor": 0
      },
      "text/plain": [
       "  0%|          | 0/9 [00:00<?, ?it/s]"
      ]
     },
     "metadata": {},
     "output_type": "display_data"
    },
    {
     "name": "stdout",
     "output_type": "stream",
     "text": [
      "tensor(0., device='cuda:0')\n"
     ]
    }
   ],
   "source": [
    "train_losses = list()\n",
    "val_losses = list()\n",
    "val_dices = list()\n",
    "\n",
    "# criterion = dice_loss\n",
    "dice, val_loss, pred, y = val(val_loader)\n",
    "# val_losses.append(val_loss)\n",
    "# val_dices.append(dice)\n",
    "print(dice)\n",
    "for i in range(20):\n",
    "    tr_loss = train(train_loader_all)\n",
    "    train_losses.append(tr_loss)\n",
    "    dice, val_loss, pred, y = val(val_loader)\n",
    "    val_losses.append(val_loss)\n",
    "    val_dices.append(dice)\n",
    "    print(i, val_dices[i])\n",
    "    d, _, _, _ = val(val_loader_rad)\n",
    "    print(d)"
   ]
  },
  {
   "cell_type": "code",
   "execution_count": null,
   "id": "aeb0709d",
   "metadata": {},
   "outputs": [],
   "source": []
  }
 ],
 "metadata": {
  "kernelspec": {
   "display_name": "Python 3 (ipykernel)",
   "language": "python",
   "name": "python3"
  },
  "language_info": {
   "codemirror_mode": {
    "name": "ipython",
    "version": 3
   },
   "file_extension": ".py",
   "mimetype": "text/x-python",
   "name": "python",
   "nbconvert_exporter": "python",
   "pygments_lexer": "ipython3",
   "version": "3.8.10"
  }
 },
 "nbformat": 4,
 "nbformat_minor": 5
}
